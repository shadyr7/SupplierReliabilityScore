{
 "cells": [
  {
   "cell_type": "markdown",
   "id": "a2158009",
   "metadata": {},
   "source": [
    "## Wallet Analysis: High & Low Scoring Suppliers in Compound V2"
   ]
  },
  {
   "cell_type": "markdown",
   "id": "24144226",
   "metadata": {},
   "source": [
    "### Introduction"
   ]
  },
  {
   "cell_type": "markdown",
   "id": "03f70f7e",
   "metadata": {},
   "source": [
    "This document examines the characteristics of the top 5 highest-scoring and bottom 5 lowest-scoring wallets based on the custom \"Supplier Reliability Score\" developed for this project. The goal is to validate that the scoring logic successfully identifies different behavioral patterns based purely on deposit history and to understand why these specific wallets received their scores. Remember, this score reflects supplier behavior (like consistency, duration, diversity) and not traditional credit risk related to borrowing."
   ]
  },
  {
   "cell_type": "markdown",
   "id": "9eb5cf58",
   "metadata": {},
   "source": [
    "## High-Scoring Wallets (Score Range: 75-100)"
   ]
  },
  {
   "cell_type": "markdown",
   "id": "9439b6c8",
   "metadata": {},
   "source": [
    "1)Wallet: 0x0f3c2476fbf0ed09dff00ea7f4ef252dcc72e6f1 Score: 100.00\n",
    "\n",
    "Cluster: 0 (\"Established, Diverse Suppliers\" - Rank 3)\n",
    "\n",
    "Key Features: Duration: 93.6 days, Count: 70, Supplies/Day: 0.75, Recency: 2.9 days, Diversity: 3 assets, CV: 1.61.\n",
    "\n",
    "Justification: This wallet achieved the maximum score. It belongs to the top-ranked Cluster 0 and possesses the longest activity duration (93.6 days) observed within that cluster (and likely the dataset). This extremely long duration, combined with good recency (2.9 days) and reasonable diversity (3 assets), maxes out the score within the 75-100 range defined for this best-performing group.\n",
    "\n",
    "2)Wallet: 0x4654f56a64301b9b582f843f97332d96ead11ff8 Score: 99.54\n",
    "\n",
    "Cluster: 0 (\"Established, Diverse Suppliers\" - Rank 3)\n",
    "\n",
    "Key Features: Duration: 92.0 days, Count: 91, Supplies/Day: 0.99, Recency: 5.4 days, Diversity: 6 assets, CV: 1.92.\n",
    "Justification: Scoring nearly perfectly, this wallet is in the highest-ranked Cluster 0. Its score is driven by an exceptionally long duration (92.0 days, almost the maximum) and impressive diversity (6 assets). Its features strongly align with the \"reliable, established supplier\" profile, placing it at the very top of the score range due to its high duration relative to other Cluster 0 members.\n",
    "\n",
    "3)Wallet: 0x505e20c0fb8252ca7ac21d54d5432eccd4f2d076 Score: 98.73\n",
    "\n",
    "Cluster: 0 (\"Established, Diverse Suppliers\" - Rank 3)\n",
    "\n",
    "Key Features: Duration: 89.2 days, Count: 9, Supplies/Day: 0.10, Recency: 0.9 days, Diversity: 3 assets, CV: 1.33.\n",
    "\n",
    "Justification: This wallet is firmly in the best category (Cluster 0, Rank 3). Its very high score results from its long activity duration (89.2 days) and excellent recency (less than a day since last supply). Although it has fewer transactions (Count: 9) than others, its sustained presence over time is prioritized by the duration-based refinement within the top cluster, leading to a score near 100.\n",
    "4)Wallet: 0x6316ff9d2c96b6b122e0dd632ab5831e0bf5bd10 Score: 98.16\n",
    "\n",
    "Cluster: 0 (\"Established, Diverse Suppliers\" - Rank 3)\n",
    "\n",
    "Key Features: Duration: 87.2 days, Count: 3, Supplies/Day: 0.03, Recency: 10.9 days, Diversity: 2 assets, CV: 1.73.\n",
    "\n",
    "Justification: Another high scorer in the top Cluster 0. Its score is primarily driven by its very long activity duration (87.2 days). Despite having only 3 deposits and moderate diversity (2 assets), its longevity within the dataset places it high on the intra-cluster scale, resulting in a score near the top of the 75-100 range.\n",
    "\n",
    "5)Wallet: 0xdf0635793e91d4f8e7426dbd9ed08471186f428d Score: 97.89\n",
    "\n",
    "Cluster: 0 (\"Established, Diverse Suppliers\" - Rank 3)\n",
    "\n",
    "Key Features: Duration: 86.2 days, Count: 37, Supplies/Day: 0.43, Recency: 4.5 days, Diversity: 7 assets, CV: 1.59.\n",
    "\n",
    "Justification: This wallet belongs to the highest-ranked Cluster 0. Its high score is supported by both a long duration (86.2 days) and the highest diversity observed among the top 5 (7 assets). Its sustained activity and broad engagement across assets strongly align with the desired profile, and its high duration within the cluster pushes its score close to the maximum."
   ]
  },
  {
   "cell_type": "markdown",
   "id": "a71e7c15",
   "metadata": {},
   "source": [
    "### Low-Scoring Wallets (Score Range: 0-50)\n"
   ]
  },
  {
   "cell_type": "markdown",
   "id": "3d680f20",
   "metadata": {},
   "source": [
    "1)Wallet: 0x8117b86882137689babc18eafad86885171f3553 Score: 0.00\n",
    "\n",
    "Cluster: 1 (\"Single-Deposit / Short-Term Suppliers\" - Rank 0)\n",
    "\n",
    "Key Features: Duration: 0.0 days, Count: 1, Supplies/Day: ~1M (artifact), Recency: 14.6 days, Diversity: 1 asset, CV: 0.00.\n",
    "\n",
    "Justification: This wallet perfectly matches the profile of the lowest-ranked Cluster 1. It made only a single deposit of one asset type, resulting in zero activity duration and zero amount variation (CV=0). Having not interacted in over two weeks (recency 14.6 days) further reinforces its placement in this minimally engaged group. Its score is 0.00, reflecting the bottom rank and the minimum possible duration.\n",
    "\n",
    "2)Wallet: 0x4fe501984561ac79ec201bf4540e0ced536ab85f Score: 0.00\n",
    "\n",
    "Cluster: 1 (\"Single-Deposit / Short-Term Suppliers\" - Rank 0)\n",
    "\n",
    "Key Features: Duration: 0.0 days, Count: 1, Supplies/Day: ~1M (artifact), Recency: 78.8 days, Diversity: 1 asset, CV: 0.00.\n",
    "\n",
    "Justification: Another clear example of Cluster 1 behavior. This wallet also made just one deposit, leading to zero duration and zero CV. Critically, its last activity was over two months ago (recency 78.8 days), making it one of the least recently active wallets. Its assignment to the lowest rank (Rank 0) and zero duration yield a score of 0.00.\n",
    "\n",
    "3)Wallet: 0x9ef80dd6ecfa7f0c5f5fa528841341d08933fac4 Score: 0.00\n",
    "Cluster: 1 (\"Single-Deposit / Short-Term Suppliers\" - Rank 0)\n",
    "\n",
    "Key Features: Duration: 0.0 days, Count: 1, Supplies/Day: ~1M (artifact), Recency: 20.7 days, Diversity: 1 asset, CV: 0.00.\n",
    "\n",
    "Justification: This wallet fits the Cluster 1 profile precisely: one deposit, zero duration, single asset, zero amount variation. Its last activity was about three weeks ago. As it falls into the lowest-ranked cluster (Rank 0) and has the minimum duration, its score is 0.00.\n",
    "\n",
    "4)Wallet: 0x9eefb47db22fea3b03059ef1183cd7a02465e4ec Score: 0.00\n",
    "\n",
    "Cluster: 1 (\"Single-Deposit / Short-Term Suppliers\" - Rank 0)\n",
    "\n",
    "Key Features: Duration: 0.0 days, Count: 1, Supplies/Day: ~1M (artifact), Recency: 67.9 days, Diversity: 1 asset, CV: 0.00.\n",
    "\n",
    "Justification: Belonging to the lowest-ranked Cluster 1, this wallet exhibits the characteristic single deposit event with zero duration and no asset diversity. Its lack of activity for over two months (recency 67.9 days) reinforces its categorization as minimally engaged. The score is 0.00 due to the Rank 0 assignment and zero duration.\n",
    "\n",
    "5)Wallet: 0x4ff0ddceda6af4adc3e51bae879aa2ef8accacb3 Score: 0.00\n",
    "\n",
    "Cluster: 1 (\"Single-Deposit / Short-Term Suppliers\" - Rank 0)\n",
    "\n",
    "Key Features: Duration: 0.0 days, Count: 1, Supplies/Day: ~1M (artifact), Recency: 30.6 days, Diversity: 1 asset, CV: 0.00.\n",
    "\n",
    "Justification: This wallet demonstrates the typical Cluster 1 pattern: a single supply transaction of one asset type, leading to zero duration and zero amount variation. Having been inactive for a month (recency 30.6 days), it clearly falls into the least engaged, lowest-ranked group (Rank 0), resulting in a score of 0.00.\n",
    "(Note: The 'supplies_per_day' value for Cluster 1 wallets is an artifact resulting from dividing by a near-zero duration + epsilon; the key takeaway is the minimal duration and count)."
   ]
  },
  {
   "cell_type": "markdown",
   "id": "f3695f32",
   "metadata": {},
   "source": [
    "## Conclusion"
   ]
  },
  {
   "cell_type": "markdown",
   "id": "0cf85ea8",
   "metadata": {},
   "source": [
    "The analysis of these extreme-scoring wallets demonstrates that the Supplier Reliability Score effectively differentiates behaviors based on the engineered features and the custom scoring logic. High scores correspond to wallets showing sustained, diverse engagement (Cluster 0), while low scores identify wallets with minimal interaction (Cluster 1) or highly anomalous, potentially bot-like patterns (Cluster 3). The scoring reflects both the overall behavioral profile identified by clustering and the relative duration of activity within that profile. This score provides a useful, data-driven perspective on supplier reliability, acknowledging the limitation that it does not measure credit risk."
   ]
  },
  {
   "cell_type": "markdown",
   "id": "e34b179d",
   "metadata": {},
   "source": []
  }
 ],
 "metadata": {
  "language_info": {
   "name": "python"
  }
 },
 "nbformat": 4,
 "nbformat_minor": 5
}
